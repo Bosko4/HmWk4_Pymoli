{
 "cells": [
  {
   "cell_type": "markdown",
   "metadata": {},
   "source": [
    "### Note\n",
    "* Instructions have been included for each segment. You do not have to follow them exactly, but they are included to help you think through the steps."
   ]
  },
  {
   "cell_type": "code",
   "execution_count": 1,
   "metadata": {},
   "outputs": [],
   "source": [
    "# Dependencies and Setup\n",
    "import pandas as pd\n",
    "import numpy as np\n",
    "import os\n",
    "\n",
    "# File to Load (Remember to Change These)\n",
    "file_to_load = os.path.join(\".\",\"Resources\",\"purchase_data.csv\")\n",
    "\n",
    "# Read Purchasing File and store into Pandas data frame\n",
    "purchase_df = pd.read_csv(file_to_load)"
   ]
  },
  {
   "cell_type": "code",
   "execution_count": 2,
   "metadata": {},
   "outputs": [
    {
     "data": {
      "text/html": [
       "<div>\n",
       "<style scoped>\n",
       "    .dataframe tbody tr th:only-of-type {\n",
       "        vertical-align: middle;\n",
       "    }\n",
       "\n",
       "    .dataframe tbody tr th {\n",
       "        vertical-align: top;\n",
       "    }\n",
       "\n",
       "    .dataframe thead th {\n",
       "        text-align: right;\n",
       "    }\n",
       "</style>\n",
       "<table border=\"1\" class=\"dataframe\">\n",
       "  <thead>\n",
       "    <tr style=\"text-align: right;\">\n",
       "      <th></th>\n",
       "      <th>Purchase ID</th>\n",
       "      <th>Age</th>\n",
       "      <th>Item ID</th>\n",
       "      <th>Price</th>\n",
       "    </tr>\n",
       "  </thead>\n",
       "  <tbody>\n",
       "    <tr>\n",
       "      <th>count</th>\n",
       "      <td>780.000000</td>\n",
       "      <td>780.000000</td>\n",
       "      <td>780.000000</td>\n",
       "      <td>780.000000</td>\n",
       "    </tr>\n",
       "    <tr>\n",
       "      <th>mean</th>\n",
       "      <td>389.500000</td>\n",
       "      <td>22.714103</td>\n",
       "      <td>91.755128</td>\n",
       "      <td>3.050987</td>\n",
       "    </tr>\n",
       "    <tr>\n",
       "      <th>std</th>\n",
       "      <td>225.310896</td>\n",
       "      <td>6.659444</td>\n",
       "      <td>52.697702</td>\n",
       "      <td>1.169549</td>\n",
       "    </tr>\n",
       "    <tr>\n",
       "      <th>min</th>\n",
       "      <td>0.000000</td>\n",
       "      <td>7.000000</td>\n",
       "      <td>0.000000</td>\n",
       "      <td>1.000000</td>\n",
       "    </tr>\n",
       "    <tr>\n",
       "      <th>25%</th>\n",
       "      <td>194.750000</td>\n",
       "      <td>20.000000</td>\n",
       "      <td>47.750000</td>\n",
       "      <td>1.980000</td>\n",
       "    </tr>\n",
       "    <tr>\n",
       "      <th>50%</th>\n",
       "      <td>389.500000</td>\n",
       "      <td>22.000000</td>\n",
       "      <td>92.000000</td>\n",
       "      <td>3.150000</td>\n",
       "    </tr>\n",
       "    <tr>\n",
       "      <th>75%</th>\n",
       "      <td>584.250000</td>\n",
       "      <td>25.000000</td>\n",
       "      <td>138.000000</td>\n",
       "      <td>4.080000</td>\n",
       "    </tr>\n",
       "    <tr>\n",
       "      <th>max</th>\n",
       "      <td>779.000000</td>\n",
       "      <td>45.000000</td>\n",
       "      <td>183.000000</td>\n",
       "      <td>4.990000</td>\n",
       "    </tr>\n",
       "  </tbody>\n",
       "</table>\n",
       "</div>"
      ],
      "text/plain": [
       "       Purchase ID         Age     Item ID       Price\n",
       "count   780.000000  780.000000  780.000000  780.000000\n",
       "mean    389.500000   22.714103   91.755128    3.050987\n",
       "std     225.310896    6.659444   52.697702    1.169549\n",
       "min       0.000000    7.000000    0.000000    1.000000\n",
       "25%     194.750000   20.000000   47.750000    1.980000\n",
       "50%     389.500000   22.000000   92.000000    3.150000\n",
       "75%     584.250000   25.000000  138.000000    4.080000\n",
       "max     779.000000   45.000000  183.000000    4.990000"
      ]
     },
     "execution_count": 2,
     "metadata": {},
     "output_type": "execute_result"
    }
   ],
   "source": [
    "#====Initial evaluation of data  \n",
    "purchase_df.describe()"
   ]
  },
  {
   "cell_type": "code",
   "execution_count": 3,
   "metadata": {},
   "outputs": [
    {
     "name": "stdout",
     "output_type": "stream",
     "text": [
      "<class 'pandas.core.frame.DataFrame'>\n",
      "RangeIndex: 780 entries, 0 to 779\n",
      "Data columns (total 7 columns):\n",
      " #   Column       Non-Null Count  Dtype  \n",
      "---  ------       --------------  -----  \n",
      " 0   Purchase ID  780 non-null    int64  \n",
      " 1   SN           780 non-null    object \n",
      " 2   Age          780 non-null    int64  \n",
      " 3   Gender       780 non-null    object \n",
      " 4   Item ID      780 non-null    int64  \n",
      " 5   Item Name    780 non-null    object \n",
      " 6   Price        780 non-null    float64\n",
      "dtypes: float64(1), int64(3), object(3)\n",
      "memory usage: 42.8+ KB\n"
     ]
    }
   ],
   "source": [
    "#====Initial evaluation of data part 2\n",
    "purchase_df.info()"
   ]
  },
  {
   "cell_type": "code",
   "execution_count": 4,
   "metadata": {},
   "outputs": [
    {
     "data": {
      "text/plain": [
       "Purchase ID    780\n",
       "SN             780\n",
       "Age            780\n",
       "Gender         780\n",
       "Item ID        780\n",
       "Item Name      780\n",
       "Price          780\n",
       "dtype: int64"
      ]
     },
     "execution_count": 4,
     "metadata": {},
     "output_type": "execute_result"
    }
   ],
   "source": [
    "#====checking for missing data\n",
    "purchase_df.count()"
   ]
  },
  {
   "cell_type": "markdown",
   "metadata": {},
   "source": [
    "## Player Count"
   ]
  },
  {
   "cell_type": "markdown",
   "metadata": {},
   "source": [
    "* Display the total number of players\n"
   ]
  },
  {
   "cell_type": "code",
   "execution_count": 5,
   "metadata": {},
   "outputs": [
    {
     "name": "stdout",
     "output_type": "stream",
     "text": [
      "Total Players: 576\n"
     ]
    }
   ],
   "source": [
    "#====Number of unique players\n",
    "total_players = len(purchase_df[\"SN\"].value_counts())\n",
    "print(f\"Total Players: {total_players}\")"
   ]
  },
  {
   "cell_type": "markdown",
   "metadata": {},
   "source": [
    "## Purchasing Analysis (Total)"
   ]
  },
  {
   "cell_type": "markdown",
   "metadata": {},
   "source": [
    "* Run basic calculations to obtain number of unique items, average price, etc.\n",
    "\n",
    "\n",
    "* Create a summary data frame to hold the results\n",
    "\n",
    "\n",
    "* Optional: give the displayed data cleaner formatting\n",
    "\n",
    "\n",
    "* Display the summary data frame\n"
   ]
  },
  {
   "cell_type": "code",
   "execution_count": 6,
   "metadata": {
    "scrolled": true
   },
   "outputs": [
    {
     "name": "stdout",
     "output_type": "stream",
     "text": [
      "Available Items for purchase: 179\n"
     ]
    }
   ],
   "source": [
    "#====Unique item count\n",
    "\n",
    "#purchase_df[\"Item Name\"].value_counts()\n",
    "item_count = len(purchase_df[\"Item Name\"].unique())\n",
    "print(f\"Available Items for purchase: {item_count}\")"
   ]
  },
  {
   "cell_type": "code",
   "execution_count": 7,
   "metadata": {},
   "outputs": [
    {
     "name": "stdout",
     "output_type": "stream",
     "text": [
      "Average purchase amount per transaction: 3.05\n"
     ]
    }
   ],
   "source": [
    "#====Average Purchase Price\n",
    "\n",
    "ave_purch = round(purchase_df[\"Price\"].mean(),2)\n",
    "\n",
    "\n",
    "print(f\"Average purchase amount per transaction: {ave_purch}\")"
   ]
  },
  {
   "cell_type": "code",
   "execution_count": 8,
   "metadata": {},
   "outputs": [
    {
     "name": "stdout",
     "output_type": "stream",
     "text": [
      "The total number of transactions: 780\n"
     ]
    }
   ],
   "source": [
    "#====Total Number of purchases\n",
    "\n",
    "purch_count = purchase_df[\"Purchase ID\"].count()\n",
    "print(f\"The total number of transactions: {purch_count}\")\n"
   ]
  },
  {
   "cell_type": "code",
   "execution_count": 9,
   "metadata": {},
   "outputs": [
    {
     "name": "stdout",
     "output_type": "stream",
     "text": [
      "The total revenue from transactions: 2379.77\n"
     ]
    }
   ],
   "source": [
    "#====Total Revenue\n",
    "\n",
    "tot_rev = round(purchase_df[\"Price\"].sum(),2)\n",
    "print(f\"The total revenue from transactions: {tot_rev}\")"
   ]
  },
  {
   "cell_type": "code",
   "execution_count": 10,
   "metadata": {},
   "outputs": [
    {
     "data": {
      "text/html": [
       "<div>\n",
       "<style scoped>\n",
       "    .dataframe tbody tr th:only-of-type {\n",
       "        vertical-align: middle;\n",
       "    }\n",
       "\n",
       "    .dataframe tbody tr th {\n",
       "        vertical-align: top;\n",
       "    }\n",
       "\n",
       "    .dataframe thead th {\n",
       "        text-align: right;\n",
       "    }\n",
       "</style>\n",
       "<table border=\"1\" class=\"dataframe\">\n",
       "  <thead>\n",
       "    <tr style=\"text-align: right;\">\n",
       "      <th></th>\n",
       "      <th>Results</th>\n",
       "    </tr>\n",
       "  </thead>\n",
       "  <tbody>\n",
       "    <tr>\n",
       "      <th>Number of Items</th>\n",
       "      <td>179.00</td>\n",
       "    </tr>\n",
       "    <tr>\n",
       "      <th>Ave Purchase Price</th>\n",
       "      <td>3.05</td>\n",
       "    </tr>\n",
       "    <tr>\n",
       "      <th>Total Number of Purchase</th>\n",
       "      <td>780.00</td>\n",
       "    </tr>\n",
       "    <tr>\n",
       "      <th>Total Revenue</th>\n",
       "      <td>2379.77</td>\n",
       "    </tr>\n",
       "  </tbody>\n",
       "</table>\n",
       "</div>"
      ],
      "text/plain": [
       "                          Results\n",
       "Number of Items            179.00\n",
       "Ave Purchase Price           3.05\n",
       "Total Number of Purchase   780.00\n",
       "Total Revenue             2379.77"
      ]
     },
     "execution_count": 10,
     "metadata": {},
     "output_type": "execute_result"
    }
   ],
   "source": [
    "#====Create summary df\n",
    "\n",
    "#==Method A - Not Used\n",
    "#summary_df = pd.DataFrame({\n",
    "#    \"Number of Items\" : [item_count],\n",
    "#    \"Ave Purchase Price\" : [ave_purch],\n",
    "#    \"Total Number of Purchase\" : [purch_count],\n",
    "#    \"Total Revenue\" : [tot_rev]\n",
    "#})\n",
    "#summary_df.transpose()\n",
    "\n",
    "#==Method B\n",
    "results = {\"Results\" : [item_count, ave_purch, purch_count, tot_rev]}\n",
    "summary_df = pd.DataFrame(results, index=[\"Number of Items\",\"Ave Purchase Price\",\"Total Number of Purchase\",\"Total Revenue\"])\n",
    "\n",
    "summary_df"
   ]
  },
  {
   "cell_type": "markdown",
   "metadata": {},
   "source": [
    "## Gender Demographics"
   ]
  },
  {
   "cell_type": "markdown",
   "metadata": {},
   "source": [
    "* Percentage and Count of Male Players\n",
    "\n",
    "\n",
    "* Percentage and Count of Female Players\n",
    "\n",
    "\n",
    "* Percentage and Count of Other / Non-Disclosed\n",
    "\n",
    "\n"
   ]
  },
  {
   "cell_type": "code",
   "execution_count": 11,
   "metadata": {},
   "outputs": [
    {
     "data": {
      "text/plain": [
       "576"
      ]
     },
     "execution_count": 11,
     "metadata": {},
     "output_type": "execute_result"
    }
   ],
   "source": [
    "#====Count of Unique Players\n",
    "unique_players = len(purchase_df[\"SN\"].unique())\n",
    "unique_players"
   ]
  },
  {
   "cell_type": "code",
   "execution_count": 12,
   "metadata": {},
   "outputs": [
    {
     "data": {
      "text/plain": [
       "484"
      ]
     },
     "execution_count": 12,
     "metadata": {},
     "output_type": "execute_result"
    }
   ],
   "source": [
    "#====Gender - Unique Male Players\n",
    "\n",
    "male_df = purchase_df.loc[purchase_df[\"Gender\"] == \"Male\",:]\n",
    "male_count = len(male_df[\"SN\"].unique())\n",
    "male_count\n"
   ]
  },
  {
   "cell_type": "code",
   "execution_count": 13,
   "metadata": {},
   "outputs": [
    {
     "data": {
      "text/plain": [
       "81"
      ]
     },
     "execution_count": 13,
     "metadata": {},
     "output_type": "execute_result"
    }
   ],
   "source": [
    "#====Gender - Unique female Players\n",
    "\n",
    "\n",
    "female_df = purchase_df.loc[purchase_df[\"Gender\"] == \"Female\",:]\n",
    "female_count = len(female_df[\"SN\"].unique())\n",
    "female_count"
   ]
  },
  {
   "cell_type": "code",
   "execution_count": 14,
   "metadata": {},
   "outputs": [
    {
     "data": {
      "text/plain": [
       "11"
      ]
     },
     "execution_count": 14,
     "metadata": {},
     "output_type": "execute_result"
    }
   ],
   "source": [
    "#====Gender - Unique other Players\n",
    "\n",
    "\n",
    "other_df = purchase_df.loc[purchase_df[\"Gender\"] == \"Other / Non-Disclosed\",:]\n",
    "other_count = len(other_df[\"SN\"].unique())\n",
    "other_count"
   ]
  },
  {
   "cell_type": "markdown",
   "metadata": {},
   "source": [
    "\n",
    "## Purchasing Analysis (Gender)"
   ]
  },
  {
   "cell_type": "markdown",
   "metadata": {},
   "source": [
    "* Run basic calculations to obtain purchase count, avg. purchase price, avg. purchase total per person etc. by gender\n",
    "\n",
    "\n",
    "\n",
    "\n",
    "* Create a summary data frame to hold the results\n",
    "\n",
    "\n",
    "* Optional: give the displayed data cleaner formatting\n",
    "\n",
    "\n",
    "* Display the summary data frame"
   ]
  },
  {
   "cell_type": "code",
   "execution_count": 15,
   "metadata": {},
   "outputs": [
    {
     "data": {
      "text/plain": [
       "Gender                 Gender               \n",
       "Female                 Female                   113\n",
       "Male                   Male                     652\n",
       "Other / Non-Disclosed  Other / Non-Disclosed     15\n",
       "Name: Gender, dtype: int64"
      ]
     },
     "execution_count": 15,
     "metadata": {},
     "output_type": "execute_result"
    }
   ],
   "source": [
    "#====Gender Summary\n",
    "\n",
    "#gender_ratio = purchase_df[\"Gender\"].value_counts(normalize=True)\n",
    "#gender_count = purchase_df[\"Gender\"].value_counts()\n",
    "\n",
    "gender_df = purchase_df.groupby([\"Gender\"])\n",
    "gender_df[\"Gender\"].value_counts()\n",
    "\n"
   ]
  },
  {
   "cell_type": "code",
   "execution_count": 16,
   "metadata": {},
   "outputs": [
    {
     "name": "stdout",
     "output_type": "stream",
     "text": [
      "Gender\n",
      "Female                   113\n",
      "Male                     652\n",
      "Other / Non-Disclosed     15\n",
      "Name: Purchase ID, dtype: int64\n"
     ]
    }
   ],
   "source": [
    "#====Gender - Purch Counts\n",
    "\n",
    "gpurch_count = gender_df[\"Purchase ID\"].count()\n",
    "gindex=gpurch_count.index\n",
    "#type(gindex)\n",
    "print(gpurch_count)\n"
   ]
  },
  {
   "cell_type": "code",
   "execution_count": 17,
   "metadata": {},
   "outputs": [
    {
     "name": "stdout",
     "output_type": "stream",
     "text": [
      "Gender\n",
      "Female                    361.94\n",
      "Male                     1967.64\n",
      "Other / Non-Disclosed      50.19\n",
      "Name: Price, dtype: float64\n"
     ]
    }
   ],
   "source": [
    "#====Gender - Total Purch \n",
    "\n",
    "gpurch_rev = gender_df[\"Price\"].sum()\n",
    "print(gpurch_rev)"
   ]
  },
  {
   "cell_type": "code",
   "execution_count": 18,
   "metadata": {},
   "outputs": [
    {
     "name": "stdout",
     "output_type": "stream",
     "text": [
      "Gender\n",
      "Female                   3.20\n",
      "Male                     3.02\n",
      "Other / Non-Disclosed    3.35\n",
      "Name: Price, dtype: float64\n"
     ]
    }
   ],
   "source": [
    "#====Gender - Ave Purch \n",
    "\n",
    "gpurch_ave = round(gender_df[\"Price\"].mean(),2)\n",
    "print(gpurch_ave)\n"
   ]
  },
  {
   "cell_type": "code",
   "execution_count": 19,
   "metadata": {},
   "outputs": [],
   "source": [
    "#==== Create list for unique players by gender\n",
    "gender_player = [female_count, male_count, other_count]\n"
   ]
  },
  {
   "cell_type": "code",
   "execution_count": 20,
   "metadata": {},
   "outputs": [
    {
     "data": {
      "text/html": [
       "<div>\n",
       "<style scoped>\n",
       "    .dataframe tbody tr th:only-of-type {\n",
       "        vertical-align: middle;\n",
       "    }\n",
       "\n",
       "    .dataframe tbody tr th {\n",
       "        vertical-align: top;\n",
       "    }\n",
       "\n",
       "    .dataframe thead th {\n",
       "        text-align: right;\n",
       "    }\n",
       "</style>\n",
       "<table border=\"1\" class=\"dataframe\">\n",
       "  <thead>\n",
       "    <tr style=\"text-align: right;\">\n",
       "      <th></th>\n",
       "      <th>Players by Gender</th>\n",
       "      <th>Gender Ratio</th>\n",
       "      <th>Transactions by Gender</th>\n",
       "      <th>Total Rev by Gender</th>\n",
       "      <th>Ave Purch by Gender</th>\n",
       "      <th>Ave Purch by Player</th>\n",
       "    </tr>\n",
       "    <tr>\n",
       "      <th>Gender</th>\n",
       "      <th></th>\n",
       "      <th></th>\n",
       "      <th></th>\n",
       "      <th></th>\n",
       "      <th></th>\n",
       "      <th></th>\n",
       "    </tr>\n",
       "  </thead>\n",
       "  <tbody>\n",
       "    <tr>\n",
       "      <th>Female</th>\n",
       "      <td>81</td>\n",
       "      <td>14.1%</td>\n",
       "      <td>113</td>\n",
       "      <td>$361.94</td>\n",
       "      <td>$3.20</td>\n",
       "      <td>$4.47</td>\n",
       "    </tr>\n",
       "    <tr>\n",
       "      <th>Male</th>\n",
       "      <td>484</td>\n",
       "      <td>84.0%</td>\n",
       "      <td>652</td>\n",
       "      <td>$1967.64</td>\n",
       "      <td>$3.02</td>\n",
       "      <td>$4.07</td>\n",
       "    </tr>\n",
       "    <tr>\n",
       "      <th>Other / Non-Disclosed</th>\n",
       "      <td>11</td>\n",
       "      <td>1.9%</td>\n",
       "      <td>15</td>\n",
       "      <td>$50.19</td>\n",
       "      <td>$3.35</td>\n",
       "      <td>$4.56</td>\n",
       "    </tr>\n",
       "  </tbody>\n",
       "</table>\n",
       "</div>"
      ],
      "text/plain": [
       "                       Players by Gender Gender Ratio  Transactions by Gender  \\\n",
       "Gender                                                                          \n",
       "Female                                81        14.1%                     113   \n",
       "Male                                 484        84.0%                     652   \n",
       "Other / Non-Disclosed                 11         1.9%                      15   \n",
       "\n",
       "                      Total Rev by Gender Ave Purch by Gender  \\\n",
       "Gender                                                          \n",
       "Female                            $361.94               $3.20   \n",
       "Male                             $1967.64               $3.02   \n",
       "Other / Non-Disclosed              $50.19               $3.35   \n",
       "\n",
       "                      Ave Purch by Player  \n",
       "Gender                                     \n",
       "Female                              $4.47  \n",
       "Male                                $4.07  \n",
       "Other / Non-Disclosed               $4.56  "
      ]
     },
     "execution_count": 20,
     "metadata": {},
     "output_type": "execute_result"
    }
   ],
   "source": [
    "gender_combine= list(zip(gender_player,gpurch_count,gpurch_ave,gpurch_rev))\n",
    "gender_summary= pd.DataFrame(gender_combine, columns = ['Players by Gender','Transactions by Gender','Ave Purch by Gender','Total Rev by Gender'])\n",
    "gender_summary.index=gindex \n",
    "gender_summary.rename_axis(\"Gender\", inplace=True)\n",
    "\n",
    "gender_summary[\"Ave Purch by Player\"]= round(gender_summary[\"Total Rev by Gender\"]/gender_summary[\"Players by Gender\"],2)\n",
    "gender_summary[\"Gender Ratio\"]= gender_summary[\"Players by Gender\"]/unique_players\n",
    "gender_summary1 = gender_summary[[\"Players by Gender\",\"Gender Ratio\",\"Transactions by Gender\",\"Total Rev by Gender\",\"Ave Purch by Gender\",\"Ave Purch by Player\"]]\n",
    "gender_summary1[\"Gender Ratio\"] = gender_summary[\"Gender Ratio\"].astype(float).map(\"{:.1%}\".format) \n",
    "gender_summary1[\"Total Rev by Gender\"] = gender_summary[\"Total Rev by Gender\"].astype(float).map(\"${:.2f}\".format) \n",
    "gender_summary1[\"Ave Purch by Gender\"] = gender_summary[\"Ave Purch by Gender\"].astype(float).map(\"${:.2f}\".format)\n",
    "gender_summary1[\"Ave Purch by Player\"] = gender_summary[\"Ave Purch by Player\"].astype(float).map(\"${:.2f}\".format)\n",
    "gender_summary1"
   ]
  },
  {
   "cell_type": "markdown",
   "metadata": {},
   "source": [
    "## Age Demographics"
   ]
  },
  {
   "cell_type": "markdown",
   "metadata": {},
   "source": [
    "* Establish bins for ages\n",
    "\n",
    "\n",
    "* Categorize the existing players using the age bins. Hint: use pd.cut()\n",
    "\n",
    "\n",
    "* Calculate the numbers and percentages by age group\n",
    "\n",
    "\n",
    "* Create a summary data frame to hold the results\n",
    "\n",
    "\n",
    "* Optional: round the percentage column to two decimal points\n",
    "\n",
    "\n",
    "* Display Age Demographics Table\n"
   ]
  },
  {
   "cell_type": "code",
   "execution_count": 21,
   "metadata": {},
   "outputs": [
    {
     "data": {
      "text/html": [
       "<div>\n",
       "<style scoped>\n",
       "    .dataframe tbody tr th:only-of-type {\n",
       "        vertical-align: middle;\n",
       "    }\n",
       "\n",
       "    .dataframe tbody tr th {\n",
       "        vertical-align: top;\n",
       "    }\n",
       "\n",
       "    .dataframe thead th {\n",
       "        text-align: right;\n",
       "    }\n",
       "</style>\n",
       "<table border=\"1\" class=\"dataframe\">\n",
       "  <thead>\n",
       "    <tr style=\"text-align: right;\">\n",
       "      <th></th>\n",
       "      <th>Purchase ID</th>\n",
       "      <th>SN</th>\n",
       "      <th>Age</th>\n",
       "      <th>Gender</th>\n",
       "      <th>Item ID</th>\n",
       "      <th>Item Name</th>\n",
       "      <th>Price</th>\n",
       "      <th>Age Group</th>\n",
       "    </tr>\n",
       "  </thead>\n",
       "  <tbody>\n",
       "    <tr>\n",
       "      <th>0</th>\n",
       "      <td>0</td>\n",
       "      <td>Lisim78</td>\n",
       "      <td>20</td>\n",
       "      <td>Male</td>\n",
       "      <td>108</td>\n",
       "      <td>Extraction, Quickblade Of Trembling Hands</td>\n",
       "      <td>3.53</td>\n",
       "      <td>20-24 yrs</td>\n",
       "    </tr>\n",
       "    <tr>\n",
       "      <th>1</th>\n",
       "      <td>1</td>\n",
       "      <td>Lisovynya38</td>\n",
       "      <td>40</td>\n",
       "      <td>Male</td>\n",
       "      <td>143</td>\n",
       "      <td>Frenzied Scimitar</td>\n",
       "      <td>1.56</td>\n",
       "      <td>40-44 yrs</td>\n",
       "    </tr>\n",
       "    <tr>\n",
       "      <th>2</th>\n",
       "      <td>2</td>\n",
       "      <td>Ithergue48</td>\n",
       "      <td>24</td>\n",
       "      <td>Male</td>\n",
       "      <td>92</td>\n",
       "      <td>Final Critic</td>\n",
       "      <td>4.88</td>\n",
       "      <td>20-24 yrs</td>\n",
       "    </tr>\n",
       "    <tr>\n",
       "      <th>3</th>\n",
       "      <td>3</td>\n",
       "      <td>Chamassasya86</td>\n",
       "      <td>24</td>\n",
       "      <td>Male</td>\n",
       "      <td>100</td>\n",
       "      <td>Blindscythe</td>\n",
       "      <td>3.27</td>\n",
       "      <td>20-24 yrs</td>\n",
       "    </tr>\n",
       "    <tr>\n",
       "      <th>4</th>\n",
       "      <td>4</td>\n",
       "      <td>Iskosia90</td>\n",
       "      <td>23</td>\n",
       "      <td>Male</td>\n",
       "      <td>131</td>\n",
       "      <td>Fury</td>\n",
       "      <td>1.44</td>\n",
       "      <td>20-24 yrs</td>\n",
       "    </tr>\n",
       "    <tr>\n",
       "      <th>5</th>\n",
       "      <td>5</td>\n",
       "      <td>Yalae81</td>\n",
       "      <td>22</td>\n",
       "      <td>Male</td>\n",
       "      <td>81</td>\n",
       "      <td>Dreamkiss</td>\n",
       "      <td>3.61</td>\n",
       "      <td>20-24 yrs</td>\n",
       "    </tr>\n",
       "    <tr>\n",
       "      <th>6</th>\n",
       "      <td>6</td>\n",
       "      <td>Itheria73</td>\n",
       "      <td>36</td>\n",
       "      <td>Male</td>\n",
       "      <td>169</td>\n",
       "      <td>Interrogator, Blood Blade of the Queen</td>\n",
       "      <td>2.18</td>\n",
       "      <td>35-39 yrs</td>\n",
       "    </tr>\n",
       "    <tr>\n",
       "      <th>7</th>\n",
       "      <td>7</td>\n",
       "      <td>Iskjaskst81</td>\n",
       "      <td>20</td>\n",
       "      <td>Male</td>\n",
       "      <td>162</td>\n",
       "      <td>Abyssal Shard</td>\n",
       "      <td>2.67</td>\n",
       "      <td>20-24 yrs</td>\n",
       "    </tr>\n",
       "    <tr>\n",
       "      <th>8</th>\n",
       "      <td>8</td>\n",
       "      <td>Undjask33</td>\n",
       "      <td>22</td>\n",
       "      <td>Male</td>\n",
       "      <td>21</td>\n",
       "      <td>Souleater</td>\n",
       "      <td>1.10</td>\n",
       "      <td>20-24 yrs</td>\n",
       "    </tr>\n",
       "    <tr>\n",
       "      <th>9</th>\n",
       "      <td>9</td>\n",
       "      <td>Chanosian48</td>\n",
       "      <td>35</td>\n",
       "      <td>Other / Non-Disclosed</td>\n",
       "      <td>136</td>\n",
       "      <td>Ghastly Adamantite Protector</td>\n",
       "      <td>3.58</td>\n",
       "      <td>35-39 yrs</td>\n",
       "    </tr>\n",
       "  </tbody>\n",
       "</table>\n",
       "</div>"
      ],
      "text/plain": [
       "   Purchase ID             SN  Age                 Gender  Item ID  \\\n",
       "0            0        Lisim78   20                   Male      108   \n",
       "1            1    Lisovynya38   40                   Male      143   \n",
       "2            2     Ithergue48   24                   Male       92   \n",
       "3            3  Chamassasya86   24                   Male      100   \n",
       "4            4      Iskosia90   23                   Male      131   \n",
       "5            5        Yalae81   22                   Male       81   \n",
       "6            6      Itheria73   36                   Male      169   \n",
       "7            7    Iskjaskst81   20                   Male      162   \n",
       "8            8      Undjask33   22                   Male       21   \n",
       "9            9    Chanosian48   35  Other / Non-Disclosed      136   \n",
       "\n",
       "                                   Item Name  Price  Age Group  \n",
       "0  Extraction, Quickblade Of Trembling Hands   3.53  20-24 yrs  \n",
       "1                          Frenzied Scimitar   1.56  40-44 yrs  \n",
       "2                               Final Critic   4.88  20-24 yrs  \n",
       "3                                Blindscythe   3.27  20-24 yrs  \n",
       "4                                       Fury   1.44  20-24 yrs  \n",
       "5                                  Dreamkiss   3.61  20-24 yrs  \n",
       "6     Interrogator, Blood Blade of the Queen   2.18  35-39 yrs  \n",
       "7                              Abyssal Shard   2.67  20-24 yrs  \n",
       "8                                  Souleater   1.10  20-24 yrs  \n",
       "9               Ghastly Adamantite Protector   3.58  35-39 yrs  "
      ]
     },
     "execution_count": 21,
     "metadata": {},
     "output_type": "execute_result"
    }
   ],
   "source": [
    "age_bins = [0, 10, 14, 19, 24, 29, 34, 39, 44, 120]\n",
    "age_lables = [\"<10 yrs\", \"11-14 yrs\", \"15-19 yrs\", \"20-24 yrs\",\"25-29 yrs\", \"30-34 yrs\", \"35-39 yrs\", \"40-44 yrs\", \"Too Old\"]\n",
    "\n",
    "purchase_df[\"Age Group\"] = pd.cut(purchase_df[\"Age\"],age_bins,labels=age_lables)\n",
    "purchase_df.head(10)\n"
   ]
  },
  {
   "cell_type": "markdown",
   "metadata": {},
   "source": [
    "## Purchasing Analysis (Age)"
   ]
  },
  {
   "cell_type": "code",
   "execution_count": 22,
   "metadata": {},
   "outputs": [
    {
     "data": {
      "text/plain": [
       "Age Group\n",
       "<10 yrs       32\n",
       "11-14 yrs     19\n",
       "15-19 yrs    136\n",
       "20-24 yrs    365\n",
       "25-29 yrs    101\n",
       "30-34 yrs     73\n",
       "35-39 yrs     41\n",
       "40-44 yrs     12\n",
       "Too Old        1\n",
       "Name: Purchase ID, dtype: int64"
      ]
     },
     "execution_count": 22,
     "metadata": {},
     "output_type": "execute_result"
    }
   ],
   "source": [
    "#====Age Analysis, grouping by age buckets \n",
    "age_df = purchase_df.groupby(\"Age Group\")\n",
    "age_df[\"Purchase ID\"].count()"
   ]
  },
  {
   "cell_type": "markdown",
   "metadata": {},
   "source": [
    "* Bin the purchase_data data frame by age\n",
    "\n",
    "\n",
    "* Run basic calculations to obtain purchase count, avg. purchase price, avg. purchase total per person etc. in the table below\n",
    "\n",
    "\n",
    "* Create a summary data frame to hold the results\n",
    "\n",
    "\n",
    "* Optional: give the displayed data cleaner formatting\n",
    "\n",
    "\n",
    "* Display the summary data frame"
   ]
  },
  {
   "cell_type": "code",
   "execution_count": 23,
   "metadata": {},
   "outputs": [],
   "source": [
    "#====Transaction count by age group\n",
    "age_count = age_df[\"Purchase ID\"].count()\n",
    "aindex=age_count.index\n",
    "#print(aindex)"
   ]
  },
  {
   "cell_type": "code",
   "execution_count": 24,
   "metadata": {},
   "outputs": [
    {
     "data": {
      "text/plain": [
       "Age Group\n",
       "<10 yrs       24\n",
       "11-14 yrs     15\n",
       "15-19 yrs    107\n",
       "20-24 yrs    258\n",
       "25-29 yrs     77\n",
       "30-34 yrs     52\n",
       "35-39 yrs     31\n",
       "40-44 yrs     11\n",
       "Too Old        1\n",
       "Name: SN, dtype: int64"
      ]
     },
     "execution_count": 24,
     "metadata": {},
     "output_type": "execute_result"
    }
   ],
   "source": [
    "#====Count of unique players by age group  !!!!! REALLY WISH \".nunique\" WAS COVERED IN CLASS MATERIALS. WOULD HAVE SAVED ME HOURS OF GOOGLE SEARCHES AND HEAD SCRATCHING\n",
    "age_unique = age_df[\"SN\"].nunique()\n",
    "#age_unique_group = age_df.groupby(\"Age Group\").counts()\n",
    "age_unique"
   ]
  },
  {
   "cell_type": "code",
   "execution_count": 25,
   "metadata": {},
   "outputs": [
    {
     "data": {
      "text/plain": [
       "Age Group\n",
       "<10 yrs      3.405000\n",
       "11-14 yrs    2.681579\n",
       "15-19 yrs    3.035956\n",
       "20-24 yrs    3.052219\n",
       "25-29 yrs    2.900990\n",
       "30-34 yrs    2.931507\n",
       "35-39 yrs    3.601707\n",
       "40-44 yrs    3.045000\n",
       "Too Old      1.700000\n",
       "Name: Price, dtype: float64"
      ]
     },
     "execution_count": 25,
     "metadata": {},
     "output_type": "execute_result"
    }
   ],
   "source": [
    "#==== Ave Purchase by age group\n",
    "age_apurch = age_df[\"Price\"].mean()\n",
    "age_apurch"
   ]
  },
  {
   "cell_type": "code",
   "execution_count": 26,
   "metadata": {},
   "outputs": [
    {
     "data": {
      "text/plain": [
       "Age Group\n",
       "<10 yrs       108.96\n",
       "11-14 yrs      50.95\n",
       "15-19 yrs     412.89\n",
       "20-24 yrs    1114.06\n",
       "25-29 yrs     293.00\n",
       "30-34 yrs     214.00\n",
       "35-39 yrs     147.67\n",
       "40-44 yrs      36.54\n",
       "Too Old         1.70\n",
       "Name: Price, dtype: float64"
      ]
     },
     "execution_count": 26,
     "metadata": {},
     "output_type": "execute_result"
    }
   ],
   "source": [
    "#====Purchase total per person in age group\n",
    "age_tpurch = age_df[\"Price\"].sum()\n",
    "age_tpurch"
   ]
  },
  {
   "cell_type": "code",
   "execution_count": 27,
   "metadata": {
    "scrolled": true
   },
   "outputs": [
    {
     "data": {
      "text/plain": [
       "Age Group\n",
       "<10 yrs      4.540000\n",
       "11-14 yrs    3.396667\n",
       "15-19 yrs    3.858785\n",
       "20-24 yrs    4.318062\n",
       "25-29 yrs    3.805195\n",
       "30-34 yrs    4.115385\n",
       "35-39 yrs    4.763548\n",
       "40-44 yrs    3.321818\n",
       "Too Old      1.700000\n",
       "dtype: float64"
      ]
     },
     "execution_count": 27,
     "metadata": {},
     "output_type": "execute_result"
    }
   ],
   "source": [
    "#====Ave Purchase per person in age group\n",
    "age_ppurch = age_tpurch/age_unique\n",
    "age_ppurch"
   ]
  },
  {
   "cell_type": "code",
   "execution_count": 28,
   "metadata": {},
   "outputs": [
    {
     "data": {
      "text/html": [
       "<div>\n",
       "<style scoped>\n",
       "    .dataframe tbody tr th:only-of-type {\n",
       "        vertical-align: middle;\n",
       "    }\n",
       "\n",
       "    .dataframe tbody tr th {\n",
       "        vertical-align: top;\n",
       "    }\n",
       "\n",
       "    .dataframe thead th {\n",
       "        text-align: right;\n",
       "    }\n",
       "</style>\n",
       "<table border=\"1\" class=\"dataframe\">\n",
       "  <thead>\n",
       "    <tr style=\"text-align: right;\">\n",
       "      <th></th>\n",
       "      <th>Players by Age</th>\n",
       "      <th>Transactions by Age</th>\n",
       "      <th>Total Rev by Age</th>\n",
       "      <th>Ave Purch by Age</th>\n",
       "      <th>Ave Purch by Player</th>\n",
       "    </tr>\n",
       "    <tr>\n",
       "      <th>Age Group</th>\n",
       "      <th></th>\n",
       "      <th></th>\n",
       "      <th></th>\n",
       "      <th></th>\n",
       "      <th></th>\n",
       "    </tr>\n",
       "  </thead>\n",
       "  <tbody>\n",
       "    <tr>\n",
       "      <th>&lt;10 yrs</th>\n",
       "      <td>24</td>\n",
       "      <td>32</td>\n",
       "      <td>$108.96</td>\n",
       "      <td>$3.40</td>\n",
       "      <td>$4.54</td>\n",
       "    </tr>\n",
       "    <tr>\n",
       "      <th>11-14 yrs</th>\n",
       "      <td>15</td>\n",
       "      <td>19</td>\n",
       "      <td>$50.95</td>\n",
       "      <td>$2.68</td>\n",
       "      <td>$3.40</td>\n",
       "    </tr>\n",
       "    <tr>\n",
       "      <th>15-19 yrs</th>\n",
       "      <td>107</td>\n",
       "      <td>136</td>\n",
       "      <td>$412.89</td>\n",
       "      <td>$3.04</td>\n",
       "      <td>$3.86</td>\n",
       "    </tr>\n",
       "    <tr>\n",
       "      <th>20-24 yrs</th>\n",
       "      <td>258</td>\n",
       "      <td>365</td>\n",
       "      <td>$1114.06</td>\n",
       "      <td>$3.05</td>\n",
       "      <td>$4.32</td>\n",
       "    </tr>\n",
       "    <tr>\n",
       "      <th>25-29 yrs</th>\n",
       "      <td>77</td>\n",
       "      <td>101</td>\n",
       "      <td>$293.00</td>\n",
       "      <td>$2.90</td>\n",
       "      <td>$3.81</td>\n",
       "    </tr>\n",
       "    <tr>\n",
       "      <th>30-34 yrs</th>\n",
       "      <td>52</td>\n",
       "      <td>73</td>\n",
       "      <td>$214.00</td>\n",
       "      <td>$2.93</td>\n",
       "      <td>$4.12</td>\n",
       "    </tr>\n",
       "    <tr>\n",
       "      <th>35-39 yrs</th>\n",
       "      <td>31</td>\n",
       "      <td>41</td>\n",
       "      <td>$147.67</td>\n",
       "      <td>$3.60</td>\n",
       "      <td>$4.76</td>\n",
       "    </tr>\n",
       "    <tr>\n",
       "      <th>40-44 yrs</th>\n",
       "      <td>11</td>\n",
       "      <td>12</td>\n",
       "      <td>$36.54</td>\n",
       "      <td>$3.04</td>\n",
       "      <td>$3.32</td>\n",
       "    </tr>\n",
       "    <tr>\n",
       "      <th>Too Old</th>\n",
       "      <td>1</td>\n",
       "      <td>1</td>\n",
       "      <td>$1.70</td>\n",
       "      <td>$1.70</td>\n",
       "      <td>$1.70</td>\n",
       "    </tr>\n",
       "  </tbody>\n",
       "</table>\n",
       "</div>"
      ],
      "text/plain": [
       "           Players by Age   Transactions by Age Total Rev by Age  \\\n",
       "Age Group                                                          \n",
       "<10 yrs                 24                   32          $108.96   \n",
       "11-14 yrs               15                   19           $50.95   \n",
       "15-19 yrs              107                  136          $412.89   \n",
       "20-24 yrs              258                  365         $1114.06   \n",
       "25-29 yrs               77                  101          $293.00   \n",
       "30-34 yrs               52                   73          $214.00   \n",
       "35-39 yrs               31                   41          $147.67   \n",
       "40-44 yrs               11                   12           $36.54   \n",
       "Too Old                  1                    1            $1.70   \n",
       "\n",
       "          Ave Purch by Age Ave Purch by Player  \n",
       "Age Group                                       \n",
       "<10 yrs              $3.40               $4.54  \n",
       "11-14 yrs            $2.68               $3.40  \n",
       "15-19 yrs            $3.04               $3.86  \n",
       "20-24 yrs            $3.05               $4.32  \n",
       "25-29 yrs            $2.90               $3.81  \n",
       "30-34 yrs            $2.93               $4.12  \n",
       "35-39 yrs            $3.60               $4.76  \n",
       "40-44 yrs            $3.04               $3.32  \n",
       "Too Old              $1.70               $1.70  "
      ]
     },
     "execution_count": 28,
     "metadata": {},
     "output_type": "execute_result"
    }
   ],
   "source": [
    "#====Age Summary\n",
    "age_combine= list(zip(age_unique ,age_count, age_tpurch, age_apurch, age_ppurch))\n",
    "age_summary= pd.DataFrame(age_combine, columns = ['Players by Age ','Transactions by Age','Total Rev by Age','Ave Purch by Age', 'Ave Purch by Player'])\n",
    "age_summary.index=aindex \n",
    "age_summary.rename_axis(\"Age Group\", inplace=True)\n",
    "age_summary1 = age_summary\n",
    "age_summary1[\"Total Rev by Age\"] = age_summary[\"Total Rev by Age\"].astype(float).map(\"${:.2f}\".format) \n",
    "age_summary1[\"Ave Purch by Age\"] = age_summary[\"Ave Purch by Age\"].astype(float).map(\"${:.2f}\".format)\n",
    "age_summary1[\"Ave Purch by Player\"] = age_summary[\"Ave Purch by Player\"].astype(float).map(\"${:.2f}\".format)\n",
    "\n",
    "age_summary1"
   ]
  },
  {
   "cell_type": "markdown",
   "metadata": {},
   "source": [
    "## Top Spenders"
   ]
  },
  {
   "cell_type": "markdown",
   "metadata": {},
   "source": [
    "* Run basic calculations to obtain the results in the table below\n",
    "\n",
    "\n",
    "* Create a summary data frame to hold the results\n",
    "\n",
    "\n",
    "* Sort the total purchase value column in descending order\n",
    "\n",
    "\n",
    "* Optional: give the displayed data cleaner formatting\n",
    "\n",
    "\n",
    "* Display a preview of the summary data frame\n",
    "\n"
   ]
  },
  {
   "cell_type": "code",
   "execution_count": 40,
   "metadata": {
    "scrolled": true
   },
   "outputs": [],
   "source": [
    "#====Player activity\n",
    "\n",
    "player_df = purchase_df.groupby(\"SN\")\n"
   ]
  },
  {
   "cell_type": "code",
   "execution_count": 41,
   "metadata": {},
   "outputs": [],
   "source": [
    "#====Player transactions (count by player)\n",
    "\n",
    "player_tcount = player_df[\"Purchase ID\"].count()\n",
    "pindex=player_tcount.index\n",
    "#print(pindex)"
   ]
  },
  {
   "cell_type": "code",
   "execution_count": 42,
   "metadata": {},
   "outputs": [
    {
     "data": {
      "text/plain": [
       "SN\n",
       "Yathecal82       6.22\n",
       "Yathedeu43       6.02\n",
       "Yoishirrala98    4.58\n",
       "Zhisrisu83       7.89\n",
       "Zontibe81        8.03\n",
       "Name: Price, dtype: float64"
      ]
     },
     "execution_count": 42,
     "metadata": {},
     "output_type": "execute_result"
    }
   ],
   "source": [
    "#====Player Purchases (sum by player)\n",
    "\n",
    "player_tpurch = player_df[\"Price\"].sum()\n",
    "player_tpurch.tail()"
   ]
  },
  {
   "cell_type": "code",
   "execution_count": 43,
   "metadata": {},
   "outputs": [
    {
     "data": {
      "text/plain": [
       "SN\n",
       "Yathecal82       2.073333\n",
       "Yathedeu43       3.010000\n",
       "Yoishirrala98    4.580000\n",
       "Zhisrisu83       3.945000\n",
       "Zontibe81        2.676667\n",
       "dtype: float64"
      ]
     },
     "execution_count": 43,
     "metadata": {},
     "output_type": "execute_result"
    }
   ],
   "source": [
    "#====Player Ave Purchases (ave by player)\n",
    "\n",
    "player_apurch = player_tpurch/player_tcount\n",
    "player_apurch.tail()"
   ]
  },
  {
   "cell_type": "code",
   "execution_count": 51,
   "metadata": {},
   "outputs": [
    {
     "data": {
      "text/html": [
       "<div>\n",
       "<style scoped>\n",
       "    .dataframe tbody tr th:only-of-type {\n",
       "        vertical-align: middle;\n",
       "    }\n",
       "\n",
       "    .dataframe tbody tr th {\n",
       "        vertical-align: top;\n",
       "    }\n",
       "\n",
       "    .dataframe thead th {\n",
       "        text-align: right;\n",
       "    }\n",
       "</style>\n",
       "<table border=\"1\" class=\"dataframe\">\n",
       "  <thead>\n",
       "    <tr style=\"text-align: right;\">\n",
       "      <th></th>\n",
       "      <th>Transactions by Player</th>\n",
       "      <th>Total Rev by Player</th>\n",
       "      <th>Ave Purch by Player</th>\n",
       "    </tr>\n",
       "    <tr>\n",
       "      <th>Player</th>\n",
       "      <th></th>\n",
       "      <th></th>\n",
       "      <th></th>\n",
       "    </tr>\n",
       "  </thead>\n",
       "  <tbody>\n",
       "    <tr>\n",
       "      <th>Lisosia93</th>\n",
       "      <td>5</td>\n",
       "      <td>$18.96</td>\n",
       "      <td>$3.79</td>\n",
       "    </tr>\n",
       "    <tr>\n",
       "      <th>Idastidru52</th>\n",
       "      <td>4</td>\n",
       "      <td>$15.45</td>\n",
       "      <td>$3.86</td>\n",
       "    </tr>\n",
       "    <tr>\n",
       "      <th>Chamjask73</th>\n",
       "      <td>3</td>\n",
       "      <td>$13.83</td>\n",
       "      <td>$4.61</td>\n",
       "    </tr>\n",
       "    <tr>\n",
       "      <th>Iral74</th>\n",
       "      <td>4</td>\n",
       "      <td>$13.62</td>\n",
       "      <td>$3.40</td>\n",
       "    </tr>\n",
       "    <tr>\n",
       "      <th>Iskadarya95</th>\n",
       "      <td>3</td>\n",
       "      <td>$13.10</td>\n",
       "      <td>$4.37</td>\n",
       "    </tr>\n",
       "    <tr>\n",
       "      <th>...</th>\n",
       "      <td>...</td>\n",
       "      <td>...</td>\n",
       "      <td>...</td>\n",
       "    </tr>\n",
       "    <tr>\n",
       "      <th>Ililsasya43</th>\n",
       "      <td>1</td>\n",
       "      <td>$1.02</td>\n",
       "      <td>$1.02</td>\n",
       "    </tr>\n",
       "    <tr>\n",
       "      <th>Irilis75</th>\n",
       "      <td>1</td>\n",
       "      <td>$1.02</td>\n",
       "      <td>$1.02</td>\n",
       "    </tr>\n",
       "    <tr>\n",
       "      <th>Aidai61</th>\n",
       "      <td>1</td>\n",
       "      <td>$1.01</td>\n",
       "      <td>$1.01</td>\n",
       "    </tr>\n",
       "    <tr>\n",
       "      <th>Chanirra79</th>\n",
       "      <td>1</td>\n",
       "      <td>$1.01</td>\n",
       "      <td>$1.01</td>\n",
       "    </tr>\n",
       "    <tr>\n",
       "      <th>Alo38</th>\n",
       "      <td>1</td>\n",
       "      <td>$1.00</td>\n",
       "      <td>$1.00</td>\n",
       "    </tr>\n",
       "  </tbody>\n",
       "</table>\n",
       "<p>576 rows × 3 columns</p>\n",
       "</div>"
      ],
      "text/plain": [
       "             Transactions by Player Total Rev by Player Ave Purch by Player\n",
       "Player                                                                     \n",
       "Lisosia93                         5              $18.96               $3.79\n",
       "Idastidru52                       4              $15.45               $3.86\n",
       "Chamjask73                        3              $13.83               $4.61\n",
       "Iral74                            4              $13.62               $3.40\n",
       "Iskadarya95                       3              $13.10               $4.37\n",
       "...                             ...                 ...                 ...\n",
       "Ililsasya43                       1               $1.02               $1.02\n",
       "Irilis75                          1               $1.02               $1.02\n",
       "Aidai61                           1               $1.01               $1.01\n",
       "Chanirra79                        1               $1.01               $1.01\n",
       "Alo38                             1               $1.00               $1.00\n",
       "\n",
       "[576 rows x 3 columns]"
      ]
     },
     "execution_count": 51,
     "metadata": {},
     "output_type": "execute_result"
    }
   ],
   "source": [
    "#====Player Summary\n",
    "player_combine= list(zip(player_tcount ,player_tpurch, player_apurch))\n",
    "player_summary= pd.DataFrame(player_combine, columns = ['Transactions by Player','Total Rev by Player','Ave Purch by Player'])\n",
    "player_summary.index=pindex \n",
    "player_summary.rename_axis(\"Player\", inplace=True)\n",
    "\n",
    "player_summary1 = player_summary.sort_values(\"Total Rev by Player\", ascending=False)\n",
    "player_summary1[\"Total Rev by Player\"] = player_summary[\"Total Rev by Player\"].astype(float).map(\"${:.2f}\".format) \n",
    "player_summary1[\"Ave Purch by Player\"] = player_summary[\"Ave Purch by Player\"].astype(float).map(\"${:.2f}\".format)\n",
    "player_summary1"
   ]
  },
  {
   "cell_type": "markdown",
   "metadata": {},
   "source": [
    "## Most Popular Items"
   ]
  },
  {
   "cell_type": "markdown",
   "metadata": {},
   "source": [
    "* Retrieve the Item ID, Item Name, and Item Price columns\n",
    "\n",
    "\n",
    "* Group by Item ID and Item Name. Perform calculations to obtain purchase count, average item price, and total purchase value\n",
    "\n",
    "\n",
    "* Create a summary data frame to hold the results\n",
    "\n",
    "\n",
    "* Sort the purchase count column in descending order\n",
    "\n",
    "\n",
    "* Optional: give the displayed data cleaner formatting\n",
    "\n",
    "\n",
    "* Display a preview of the summary data frame\n",
    "\n"
   ]
  },
  {
   "cell_type": "code",
   "execution_count": 87,
   "metadata": {},
   "outputs": [
    {
     "data": {
      "text/plain": [
       "Item ID  Item Name                                   \n",
       "0        Splinter                                         4\n",
       "1        Crucifer                                         4\n",
       "2        Verdict                                          6\n",
       "3        Phantomlight                                     6\n",
       "4        Bloodlord's Fetish                               5\n",
       "                                                         ..\n",
       "178      Oathbreaker, Last Hope of the Breaking Storm    12\n",
       "179      Wolf, Promise of the Moonwalker                  6\n",
       "181      Reaper's Toll                                    5\n",
       "182      Toothpick                                        3\n",
       "183      Dragon's Greatsword                              3\n",
       "Name: Item ID, Length: 179, dtype: int64"
      ]
     },
     "execution_count": 87,
     "metadata": {},
     "output_type": "execute_result"
    }
   ],
   "source": [
    "#====Item Analysis, grouped by item\n",
    "item_df = purchase_df.groupby(['Item ID','Item Name'])\n",
    "item_df[\"Item ID\"].count()\n"
   ]
  },
  {
   "cell_type": "code",
   "execution_count": 99,
   "metadata": {},
   "outputs": [],
   "source": [
    "#====Item Purchase Occurance \n",
    "item_count = item_df[\"Item ID\"].count()\n",
    "iindex = item_count.index\n"
   ]
  },
  {
   "cell_type": "code",
   "execution_count": 89,
   "metadata": {},
   "outputs": [
    {
     "data": {
      "text/plain": [
       "Item ID  Item Name                                   \n",
       "0        Splinter                                         5.12\n",
       "1        Crucifer                                        11.77\n",
       "2        Verdict                                         14.88\n",
       "3        Phantomlight                                    14.94\n",
       "4        Bloodlord's Fetish                               8.50\n",
       "                                                         ...  \n",
       "178      Oathbreaker, Last Hope of the Breaking Storm    50.76\n",
       "179      Wolf, Promise of the Moonwalker                 26.88\n",
       "181      Reaper's Toll                                    8.30\n",
       "182      Toothpick                                       12.09\n",
       "183      Dragon's Greatsword                              3.27\n",
       "Name: Price, Length: 179, dtype: float64"
      ]
     },
     "execution_count": 89,
     "metadata": {},
     "output_type": "execute_result"
    }
   ],
   "source": [
    "#====Revenue by item (sum)\n",
    "item_rev = item_df[\"Price\"].sum()\n",
    "item_rev"
   ]
  },
  {
   "cell_type": "code",
   "execution_count": 90,
   "metadata": {
    "scrolled": true
   },
   "outputs": [
    {
     "data": {
      "text/plain": [
       "Item ID  Item Name                                   \n",
       "0        Splinter                                        1.2800\n",
       "1        Crucifer                                        2.9425\n",
       "2        Verdict                                         2.4800\n",
       "3        Phantomlight                                    2.4900\n",
       "4        Bloodlord's Fetish                              1.7000\n",
       "                                                          ...  \n",
       "178      Oathbreaker, Last Hope of the Breaking Storm    4.2300\n",
       "179      Wolf, Promise of the Moonwalker                 4.4800\n",
       "181      Reaper's Toll                                   1.6600\n",
       "182      Toothpick                                       4.0300\n",
       "183      Dragon's Greatsword                             1.0900\n",
       "Length: 179, dtype: float64"
      ]
     },
     "execution_count": 90,
     "metadata": {},
     "output_type": "execute_result"
    }
   ],
   "source": [
    "#====Ave Price per item\n",
    "item_price = item_rev/item_count\n",
    "item_price"
   ]
  },
  {
   "cell_type": "code",
   "execution_count": 122,
   "metadata": {},
   "outputs": [
    {
     "data": {
      "text/html": [
       "<div>\n",
       "<style scoped>\n",
       "    .dataframe tbody tr th:only-of-type {\n",
       "        vertical-align: middle;\n",
       "    }\n",
       "\n",
       "    .dataframe tbody tr th {\n",
       "        vertical-align: top;\n",
       "    }\n",
       "\n",
       "    .dataframe thead th {\n",
       "        text-align: right;\n",
       "    }\n",
       "</style>\n",
       "<table border=\"1\" class=\"dataframe\">\n",
       "  <thead>\n",
       "    <tr style=\"text-align: right;\">\n",
       "      <th></th>\n",
       "      <th></th>\n",
       "      <th>Transactions by Item</th>\n",
       "      <th>Item Price</th>\n",
       "      <th>Total Rev by Item</th>\n",
       "    </tr>\n",
       "    <tr>\n",
       "      <th>Item ID</th>\n",
       "      <th>Item Name</th>\n",
       "      <th></th>\n",
       "      <th></th>\n",
       "      <th></th>\n",
       "    </tr>\n",
       "  </thead>\n",
       "  <tbody>\n",
       "    <tr>\n",
       "      <th>92</th>\n",
       "      <th>Final Critic</th>\n",
       "      <td>13</td>\n",
       "      <td>$4.61</td>\n",
       "      <td>$59.99</td>\n",
       "    </tr>\n",
       "    <tr>\n",
       "      <th>178</th>\n",
       "      <th>Oathbreaker, Last Hope of the Breaking Storm</th>\n",
       "      <td>12</td>\n",
       "      <td>$4.23</td>\n",
       "      <td>$50.76</td>\n",
       "    </tr>\n",
       "    <tr>\n",
       "      <th>145</th>\n",
       "      <th>Fiery Glass Crusader</th>\n",
       "      <td>9</td>\n",
       "      <td>$4.58</td>\n",
       "      <td>$41.22</td>\n",
       "    </tr>\n",
       "    <tr>\n",
       "      <th>132</th>\n",
       "      <th>Persuasion</th>\n",
       "      <td>9</td>\n",
       "      <td>$3.22</td>\n",
       "      <td>$28.99</td>\n",
       "    </tr>\n",
       "    <tr>\n",
       "      <th>108</th>\n",
       "      <th>Extraction, Quickblade Of Trembling Hands</th>\n",
       "      <td>9</td>\n",
       "      <td>$3.53</td>\n",
       "      <td>$31.77</td>\n",
       "    </tr>\n",
       "    <tr>\n",
       "      <th>82</th>\n",
       "      <th>Nirvana</th>\n",
       "      <td>9</td>\n",
       "      <td>$4.90</td>\n",
       "      <td>$44.10</td>\n",
       "    </tr>\n",
       "    <tr>\n",
       "      <th>75</th>\n",
       "      <th>Brutality Ivory Warmace</th>\n",
       "      <td>8</td>\n",
       "      <td>$2.42</td>\n",
       "      <td>$19.36</td>\n",
       "    </tr>\n",
       "    <tr>\n",
       "      <th>103</th>\n",
       "      <th>Singed Scalpel</th>\n",
       "      <td>8</td>\n",
       "      <td>$4.35</td>\n",
       "      <td>$34.80</td>\n",
       "    </tr>\n",
       "    <tr>\n",
       "      <th>34</th>\n",
       "      <th>Retribution Axe</th>\n",
       "      <td>8</td>\n",
       "      <td>$2.22</td>\n",
       "      <td>$17.76</td>\n",
       "    </tr>\n",
       "    <tr>\n",
       "      <th>37</th>\n",
       "      <th>Shadow Strike, Glory of Ending Hope</th>\n",
       "      <td>8</td>\n",
       "      <td>$3.16</td>\n",
       "      <td>$25.28</td>\n",
       "    </tr>\n",
       "  </tbody>\n",
       "</table>\n",
       "</div>"
      ],
      "text/plain": [
       "                                                      Transactions by Item  \\\n",
       "Item ID Item Name                                                            \n",
       "92      Final Critic                                                    13   \n",
       "178     Oathbreaker, Last Hope of the Breaking Storm                    12   \n",
       "145     Fiery Glass Crusader                                             9   \n",
       "132     Persuasion                                                       9   \n",
       "108     Extraction, Quickblade Of Trembling Hands                        9   \n",
       "82      Nirvana                                                          9   \n",
       "75      Brutality Ivory Warmace                                          8   \n",
       "103     Singed Scalpel                                                   8   \n",
       "34      Retribution Axe                                                  8   \n",
       "37      Shadow Strike, Glory of Ending Hope                              8   \n",
       "\n",
       "                                                     Item Price  \\\n",
       "Item ID Item Name                                                 \n",
       "92      Final Critic                                      $4.61   \n",
       "178     Oathbreaker, Last Hope of the Breaking Storm      $4.23   \n",
       "145     Fiery Glass Crusader                              $4.58   \n",
       "132     Persuasion                                        $3.22   \n",
       "108     Extraction, Quickblade Of Trembling Hands         $3.53   \n",
       "82      Nirvana                                           $4.90   \n",
       "75      Brutality Ivory Warmace                           $2.42   \n",
       "103     Singed Scalpel                                    $4.35   \n",
       "34      Retribution Axe                                   $2.22   \n",
       "37      Shadow Strike, Glory of Ending Hope               $3.16   \n",
       "\n",
       "                                                     Total Rev by Item  \n",
       "Item ID Item Name                                                       \n",
       "92      Final Critic                                            $59.99  \n",
       "178     Oathbreaker, Last Hope of the Breaking Storm            $50.76  \n",
       "145     Fiery Glass Crusader                                    $41.22  \n",
       "132     Persuasion                                              $28.99  \n",
       "108     Extraction, Quickblade Of Trembling Hands               $31.77  \n",
       "82      Nirvana                                                 $44.10  \n",
       "75      Brutality Ivory Warmace                                 $19.36  \n",
       "103     Singed Scalpel                                          $34.80  \n",
       "34      Retribution Axe                                         $17.76  \n",
       "37      Shadow Strike, Glory of Ending Hope                     $25.28  "
      ]
     },
     "execution_count": 122,
     "metadata": {},
     "output_type": "execute_result"
    }
   ],
   "source": [
    "#====Item Summary Multi-Index\n",
    "#item_combine= list(zip(item_count ,item_price, item_rev))\n",
    "#item_summary= pd.DataFrame(item_combine, columns = ['Transactions by Item','Item Price','Total Rev by Item'])\n",
    "#item_summary.set_index(i['Item ID', 'Item Name'], inplace=True)\n",
    "#item_summary.rename_axis(\"Item\", inplace=True)\n",
    "\n",
    "item_summary = pd.DataFrame({'Transactions by Item':item_count,'Item Price':item_price,'Total Rev by Item':item_rev})\n",
    "#item_summary.info() \n",
    "\n",
    "item_summary1 = item_summary.sort_values(\"Transactions by Item\", ascending=False)\n",
    "item_summary1[\"Item Price\"] = item_summary[\"Item Price\"].astype(float).map(\"${:.2f}\".format) \n",
    "item_summary1[\"Total Rev by Item\"] = item_summary[\"Total Rev by Item\"].astype(float).map(\"${:.2f}\".format)\n",
    "#print(item_summary1.head(10))\n",
    "item_summary1.nlargest(10,'Transactions by Item')"
   ]
  },
  {
   "cell_type": "markdown",
   "metadata": {},
   "source": [
    "## Most Profitable Items"
   ]
  },
  {
   "cell_type": "markdown",
   "metadata": {},
   "source": [
    "* Sort the above table by total purchase value in descending order\n",
    "\n",
    "\n",
    "* Optional: give the displayed data cleaner formatting\n",
    "\n",
    "\n",
    "* Display a preview of the data frame\n",
    "\n"
   ]
  },
  {
   "cell_type": "code",
   "execution_count": 134,
   "metadata": {
    "scrolled": true
   },
   "outputs": [
    {
     "data": {
      "text/html": [
       "<div>\n",
       "<style scoped>\n",
       "    .dataframe tbody tr th:only-of-type {\n",
       "        vertical-align: middle;\n",
       "    }\n",
       "\n",
       "    .dataframe tbody tr th {\n",
       "        vertical-align: top;\n",
       "    }\n",
       "\n",
       "    .dataframe thead th {\n",
       "        text-align: right;\n",
       "    }\n",
       "</style>\n",
       "<table border=\"1\" class=\"dataframe\">\n",
       "  <thead>\n",
       "    <tr style=\"text-align: right;\">\n",
       "      <th></th>\n",
       "      <th></th>\n",
       "      <th>Transactions by Item</th>\n",
       "      <th>Item Price</th>\n",
       "      <th>Total Rev by Item</th>\n",
       "    </tr>\n",
       "    <tr>\n",
       "      <th>Item ID</th>\n",
       "      <th>Item Name</th>\n",
       "      <th></th>\n",
       "      <th></th>\n",
       "      <th></th>\n",
       "    </tr>\n",
       "  </thead>\n",
       "  <tbody>\n",
       "    <tr>\n",
       "      <th>92</th>\n",
       "      <th>Final Critic</th>\n",
       "      <td>13</td>\n",
       "      <td>$4.61</td>\n",
       "      <td>$59.99</td>\n",
       "    </tr>\n",
       "    <tr>\n",
       "      <th>178</th>\n",
       "      <th>Oathbreaker, Last Hope of the Breaking Storm</th>\n",
       "      <td>12</td>\n",
       "      <td>$4.23</td>\n",
       "      <td>$50.76</td>\n",
       "    </tr>\n",
       "    <tr>\n",
       "      <th>82</th>\n",
       "      <th>Nirvana</th>\n",
       "      <td>9</td>\n",
       "      <td>$4.90</td>\n",
       "      <td>$44.10</td>\n",
       "    </tr>\n",
       "    <tr>\n",
       "      <th>145</th>\n",
       "      <th>Fiery Glass Crusader</th>\n",
       "      <td>9</td>\n",
       "      <td>$4.58</td>\n",
       "      <td>$41.22</td>\n",
       "    </tr>\n",
       "    <tr>\n",
       "      <th>103</th>\n",
       "      <th>Singed Scalpel</th>\n",
       "      <td>8</td>\n",
       "      <td>$4.35</td>\n",
       "      <td>$34.80</td>\n",
       "    </tr>\n",
       "    <tr>\n",
       "      <th>59</th>\n",
       "      <th>Lightning, Etcher of the King</th>\n",
       "      <td>8</td>\n",
       "      <td>$4.23</td>\n",
       "      <td>$33.84</td>\n",
       "    </tr>\n",
       "    <tr>\n",
       "      <th>108</th>\n",
       "      <th>Extraction, Quickblade Of Trembling Hands</th>\n",
       "      <td>9</td>\n",
       "      <td>$3.53</td>\n",
       "      <td>$31.77</td>\n",
       "    </tr>\n",
       "    <tr>\n",
       "      <th>78</th>\n",
       "      <th>Glimmer, Ender of the Moon</th>\n",
       "      <td>7</td>\n",
       "      <td>$4.40</td>\n",
       "      <td>$30.80</td>\n",
       "    </tr>\n",
       "    <tr>\n",
       "      <th>72</th>\n",
       "      <th>Winter's Bite</th>\n",
       "      <td>8</td>\n",
       "      <td>$3.77</td>\n",
       "      <td>$30.16</td>\n",
       "    </tr>\n",
       "    <tr>\n",
       "      <th>132</th>\n",
       "      <th>Persuasion</th>\n",
       "      <td>9</td>\n",
       "      <td>$3.22</td>\n",
       "      <td>$28.99</td>\n",
       "    </tr>\n",
       "  </tbody>\n",
       "</table>\n",
       "</div>"
      ],
      "text/plain": [
       "                                                      Transactions by Item  \\\n",
       "Item ID Item Name                                                            \n",
       "92      Final Critic                                                    13   \n",
       "178     Oathbreaker, Last Hope of the Breaking Storm                    12   \n",
       "82      Nirvana                                                          9   \n",
       "145     Fiery Glass Crusader                                             9   \n",
       "103     Singed Scalpel                                                   8   \n",
       "59      Lightning, Etcher of the King                                    8   \n",
       "108     Extraction, Quickblade Of Trembling Hands                        9   \n",
       "78      Glimmer, Ender of the Moon                                       7   \n",
       "72      Winter's Bite                                                    8   \n",
       "132     Persuasion                                                       9   \n",
       "\n",
       "                                                     Item Price  \\\n",
       "Item ID Item Name                                                 \n",
       "92      Final Critic                                      $4.61   \n",
       "178     Oathbreaker, Last Hope of the Breaking Storm      $4.23   \n",
       "82      Nirvana                                           $4.90   \n",
       "145     Fiery Glass Crusader                              $4.58   \n",
       "103     Singed Scalpel                                    $4.35   \n",
       "59      Lightning, Etcher of the King                     $4.23   \n",
       "108     Extraction, Quickblade Of Trembling Hands         $3.53   \n",
       "78      Glimmer, Ender of the Moon                        $4.40   \n",
       "72      Winter's Bite                                     $3.77   \n",
       "132     Persuasion                                        $3.22   \n",
       "\n",
       "                                                     Total Rev by Item  \n",
       "Item ID Item Name                                                       \n",
       "92      Final Critic                                            $59.99  \n",
       "178     Oathbreaker, Last Hope of the Breaking Storm            $50.76  \n",
       "82      Nirvana                                                 $44.10  \n",
       "145     Fiery Glass Crusader                                    $41.22  \n",
       "103     Singed Scalpel                                          $34.80  \n",
       "59      Lightning, Etcher of the King                           $33.84  \n",
       "108     Extraction, Quickblade Of Trembling Hands               $31.77  \n",
       "78      Glimmer, Ender of the Moon                              $30.80  \n",
       "72      Winter's Bite                                           $30.16  \n",
       "132     Persuasion                                              $28.99  "
      ]
     },
     "execution_count": 134,
     "metadata": {},
     "output_type": "execute_result"
    }
   ],
   "source": [
    "#====Item Summary by Total Revenue\n",
    "\n",
    "item_summary2 = item_summary.sort_values(\"Total Rev by Item\", ascending=False)\n",
    "item_summary2[\"Item Price\"] = item_summary[\"Item Price\"].astype(float).map(\"${:.2f}\".format) \n",
    "item_summary2[\"Total Rev by Item\"] = item_summary[\"Total Rev by Item\"].astype(float).map(\"${:.2f}\".format)\n",
    "item_summary2.head(10)\n",
    "#item_summary2.nlargest(10,item_summary2['Total Rev by Item'].astype(float)) <---cannot convert str to float"
   ]
  },
  {
   "cell_type": "code",
   "execution_count": null,
   "metadata": {},
   "outputs": [],
   "source": []
  }
 ],
 "metadata": {
  "anaconda-cloud": {},
  "kernel_info": {
   "name": "python3"
  },
  "kernelspec": {
   "display_name": "Python [conda env:PythonData]",
   "language": "python",
   "name": "conda-env-PythonData-py"
  },
  "language_info": {
   "codemirror_mode": {
    "name": "ipython",
    "version": 3
   },
   "file_extension": ".py",
   "mimetype": "text/x-python",
   "name": "python",
   "nbconvert_exporter": "python",
   "pygments_lexer": "ipython3",
   "version": "3.6.10"
  },
  "latex_envs": {
   "LaTeX_envs_menu_present": true,
   "autoclose": false,
   "autocomplete": true,
   "bibliofile": "biblio.bib",
   "cite_by": "apalike",
   "current_citInitial": 1,
   "eqLabelWithNumbers": true,
   "eqNumInitial": 1,
   "hotkeys": {
    "equation": "Ctrl-E",
    "itemize": "Ctrl-I"
   },
   "labels_anchors": false,
   "latex_user_defs": false,
   "report_style_numbering": false,
   "user_envs_cfg": false
  },
  "nteract": {
   "version": "0.2.0"
  }
 },
 "nbformat": 4,
 "nbformat_minor": 2
}
